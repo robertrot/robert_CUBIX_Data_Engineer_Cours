{
 "cells": [
  {
   "cell_type": "markdown",
   "metadata": {},
   "source": [
    "# Data Engineer\n",
    "    Assignments / Homeworks"
   ]
  },
  {
   "cell_type": "code",
   "execution_count": 41,
   "metadata": {},
   "outputs": [],
   "source": [
    "# import json and boto3 / S3\n",
    "import boto3\n",
    "import json\n",
    "\n",
    "import pandas as pd\n",
    "import requests\n",
    "\n",
    "import os \n",
    "\n",
    "pd.set_option('display.max.columns', 30)\n",
    "\n",
    "from datetime import datetime\n",
    "from dateutil.relativedelta import relativedelta "
   ]
  },
  {
   "cell_type": "code",
   "execution_count": 42,
   "metadata": {},
   "outputs": [],
   "source": [
    "current_datetime = datetime.now() - relativedelta(months=8)\n",
    "formatted_datetime = current_datetime.strftime(\"%Y-%m-%d\")\n",
    "\n",
    "\n",
    "url = (\n",
    "    f\"https://data.cityofchicago.org/resource/wrvz-psew.json?\"\n",
    "    f\"$where=trip_start_timestamp >= '{formatted_datetime}T00:00:00'\"\n",
    "    f\"AND trip_start_timestamp <= '{formatted_datetime}T23:59:59'&$limit=30000\"\n",
    ")\n",
    "\n",
    "headers  = {\"X-App-Token\": os.environ.get(\"CHICAGO_API_TOKEN\")}\n",
    "\n",
    "response = requests.get(url) \n",
    "\n",
    "data = response.json()"
   ]
  },
  {
   "cell_type": "code",
   "execution_count": 52,
   "metadata": {},
   "outputs": [],
   "source": [
    "# Create a function / With a function call:taxi_trips_data_json =read_json_from_s3(PARAMETERS)\n",
    "\n",
    "def read_json_from_s3(bucket: str, key: str) -> dict:\n",
    "    \"\"\"Reads a JSON file from S3 and returns it as a Python dictionary.\n",
    "\n",
    "    Parameters\n",
    "    ----------\n",
    "    bucket : str\n",
    "        The name of the S3 bucket.\n",
    "    key : str\n",
    "        The key (path) to the JSON file in the S3 bucket.\n",
    "\n",
    "    Returns\n",
    "    -------\n",
    "    dict\n",
    "        The JSON file content as a Python dictionary.\n",
    "    \"\"\"\n",
    "    # S3 kliens létrehozása\n",
    "    s3 = boto3.client('s3')\n",
    "    \n",
    "    # Az objektum letöltése az S3-ból\n",
    "    response = s3.get_object(Bucket=bucket, Key= 'raw_taxi_folder', Key= 'raw_weather_folder')\n",
    "    \n",
    "    # Tartalom olvasása és JSON betöltése\n",
    "    content = response[\"Body\"]\n",
    "    data = json.loads(content.read())\n",
    "    \n",
    "    return data\n",
    "\n"
   ]
  },
  {
   "cell_type": "code",
   "execution_count": null,
   "metadata": {},
   "outputs": [],
   "source": [
    "# Példa a használatra:\n",
    "bucket = 'cubix-chicago-taxi-rr'\n",
    "raw_taxi_folder = 'raw_data/to_processed/taxi_data/'\n",
    "raw_weather_folder = 'raw_data/to_processed/weather_data/'\n",
    "\n",
    "taxi_trips_data_json = read_json_from_s3(bucket, raw_taxi_folder)\n",
    "weather_data_json = read_json_from_s3(bucket, raw_weather_folder)"
   ]
  }
 ],
 "metadata": {
  "kernelspec": {
   "display_name": "venv",
   "language": "python",
   "name": "python3"
  },
  "language_info": {
   "codemirror_mode": {
    "name": "ipython",
    "version": 3
   },
   "file_extension": ".py",
   "mimetype": "text/x-python",
   "name": "python",
   "nbconvert_exporter": "python",
   "pygments_lexer": "ipython3",
   "version": "3.12.4"
  }
 },
 "nbformat": 4,
 "nbformat_minor": 2
}
