{
 "cells": [
  {
   "cell_type": "code",
   "execution_count": 5,
   "metadata": {},
   "outputs": [],
   "source": [
    "import json, os"
   ]
  },
  {
   "cell_type": "code",
   "execution_count": 6,
   "metadata": {},
   "outputs": [],
   "source": [
    "# reading the json file\n",
    "file_path = r\"C:\\Users\\rotar\\OneDrive\\Asztali gép\\Cubix_Data_Engineer_Live\\json_handling\\json_handling\\spotify_playlist.json\" \n",
    "with open(file_path, \"r\") as json_file:\n",
    "    data = json.load(json_file)"
   ]
  },
  {
   "cell_type": "code",
   "execution_count": 7,
   "metadata": {},
   "outputs": [
    {
     "name": "stdout",
     "output_type": "stream",
     "text": [
      "Track name: 3D (feat. Jack Harlow)\n",
      "Artist: Jung Kook\n",
      "Artist: Jack Harlow\n",
      "\n",
      "Track name: Seven (feat. Latto) (Explicit Ver.)\n",
      "Artist: Jung Kook\n",
      "Artist: Latto\n",
      "\n",
      "Track name: Paint The Town Red\n",
      "Artist: Doja Cat\n",
      "\n",
      "Track name: greedy\n",
      "Artist: Tate McRae\n",
      "\n",
      "Track name: Strangers\n",
      "Artist: Kenya Grace\n",
      "\n",
      "Track name: Cruel Summer\n",
      "Artist: Taylor Swift\n",
      "\n",
      "Track name: QLONA\n",
      "Artist: KAROL G\n",
      "Artist: Peso Pluma\n",
      "\n",
      "Track name: LALA\n",
      "Artist: Myke Towers\n",
      "\n",
      "Track name: Si No Estás\n",
      "Artist: iñigo quintero\n",
      "\n",
      "Track name: vampire\n",
      "Artist: Olivia Rodrigo\n",
      "\n",
      "Track name: UN PREVIEW\n",
      "Artist: Bad Bunny\n",
      "\n",
      "Track name: fukumean\n",
      "Artist: Gunna\n",
      "\n",
      "Track name: I Wanna Be Yours\n",
      "Artist: Arctic Monkeys\n",
      "\n",
      "Track name: What Was I Made For? [From The Motion Picture \"Barbie\"]\n",
      "Artist: Billie Eilish\n",
      "\n",
      "Track name: LADY GAGA\n",
      "Artist: Peso Pluma\n",
      "Artist: Gabito Ballesteros\n",
      "Artist: Junior H\n",
      "\n",
      "Track name: Columbia\n",
      "Artist: Quevedo\n",
      "\n",
      "Track name: Dance The Night - From Barbie The Album\n",
      "Artist: Dua Lipa\n",
      "\n",
      "Track name: Daylight\n",
      "Artist: David Kushner\n",
      "\n",
      "Track name: Prada\n",
      "Artist: cassö\n",
      "Artist: RAYE\n",
      "Artist: D-Block Europe\n",
      "\n",
      "Track name: As It Was\n",
      "Artist: Harry Styles\n",
      "\n",
      "Track name: Starboy\n",
      "Artist: The Weeknd\n",
      "Artist: Daft Punk\n",
      "\n",
      "Track name: Kill Bill\n",
      "Artist: SZA\n",
      "\n",
      "Track name: Que Onda\n",
      "Artist: Calle 24\n",
      "Artist: Chino Pacas\n",
      "Artist: Fuerza Regida\n",
      "\n",
      "Track name: Chaleya\n",
      "Artist: Anirudh Ravichander\n",
      "Artist: Arijit Singh\n",
      "Artist: Shilpa Rao\n",
      "Artist: Kumaar\n",
      "\n",
      "Track name: bad idea right?\n",
      "Artist: Olivia Rodrigo\n",
      "\n",
      "Track name: Según Quién\n",
      "Artist: Maluma\n",
      "Artist: Carin Leon\n",
      "\n",
      "Track name: My Love Mine All Mine\n",
      "Artist: Mitski\n",
      "\n",
      "Track name: I Remember Everything (feat. Kacey Musgraves)\n",
      "Artist: Zach Bryan\n",
      "Artist: Kacey Musgraves\n",
      "\n",
      "Track name: Blank Space\n",
      "Artist: Taylor Swift\n",
      "\n",
      "Track name: Primera Cita\n",
      "Artist: Carin Leon\n",
      "\n",
      "Track name: Style\n",
      "Artist: Taylor Swift\n",
      "\n",
      "Track name: Die For You\n",
      "Artist: The Weeknd\n",
      "\n",
      "Track name: Sprinter\n",
      "Artist: Dave\n",
      "Artist: Central Cee\n",
      "\n",
      "Track name: Sweater Weather\n",
      "Artist: The Neighbourhood\n",
      "\n",
      "Track name: Slow Dancing\n",
      "Artist: V\n",
      "\n",
      "Track name: Another Love\n",
      "Artist: Tom Odell\n",
      "\n",
      "Track name: Popular (with Playboi Carti & Madonna) - Music from the HBO Original Series\n",
      "Artist: The Weeknd\n",
      "Artist: Playboi Carti\n",
      "Artist: Madonna\n",
      "\n",
      "Track name: Classy 101\n",
      "Artist: Feid\n",
      "Artist: Young Miko\n",
      "\n",
      "Track name: Anti-Hero\n",
      "Artist: Taylor Swift\n",
      "\n",
      "Track name: Holanda\n",
      "Artist: Jhayco\n",
      "\n",
      "Track name: Flowers\n",
      "Artist: Miley Cyrus\n",
      "\n",
      "Track name: Super Shy\n",
      "Artist: NewJeans\n",
      "\n",
      "Track name: I KNOW ?\n",
      "Artist: Travis Scott\n",
      "\n",
      "Track name: Snooze\n",
      "Artist: SZA\n",
      "\n",
      "Track name: get him back!\n",
      "Artist: Olivia Rodrigo\n",
      "\n",
      "Track name: Heeriye (feat. Arijit Singh)\n",
      "Artist: Jasleen Royal\n",
      "Artist: Arijit Singh\n",
      "Artist: Dulquer Salmaan\n",
      "\n",
      "Track name: we fell in love in october\n",
      "Artist: girl in red\n",
      "\n",
      "Track name: un x100to\n",
      "Artist: Grupo Frontera\n",
      "Artist: Bad Bunny\n",
      "\n",
      "Track name: Ella Baila Sola\n",
      "Artist: Eslabon Armado\n",
      "Artist: Peso Pluma\n",
      "\n",
      "Track name: Agora Hills\n",
      "Artist: Doja Cat\n",
      "\n"
     ]
    }
   ],
   "source": [
    "for track in data['contents']['items']:\n",
    "    track_name = track['name']\n",
    "    print(f'Track name: {track['name']}')\n",
    "    for i in track['artists']:\n",
    "        print(f'Artist: {i['name']}')\n",
    "    print()"
   ]
  },
  {
   "cell_type": "code",
   "execution_count": 8,
   "metadata": {},
   "outputs": [
    {
     "name": "stdout",
     "output_type": "stream",
     "text": [
      "The 31st track from the list is: Sprinter\n"
     ]
    }
   ],
   "source": [
    "# Print the name of the 31st track\n",
    "track_to_check = data['contents']['items'][32]['name']\n",
    "\n",
    "print(f'The 31st track from the list is: {track_to_check}')"
   ]
  },
  {
   "cell_type": "code",
   "execution_count": 9,
   "metadata": {},
   "outputs": [
    {
     "name": "stdout",
     "output_type": "stream",
     "text": [
      "The 50 tracks total playcount: 31309112207\n"
     ]
    }
   ],
   "source": [
    "# 50 tracks total playcount\n",
    "totalcount = 0\n",
    "for track in data['contents']['items']:\n",
    "    #print(track['playCount'])\n",
    "    totalcount = totalcount + track['playCount']\n",
    "\n",
    "print(f'The 50 tracks total playcount: {totalcount}')"
   ]
  },
  {
   "cell_type": "code",
   "execution_count": 10,
   "metadata": {},
   "outputs": [
    {
     "name": "stdout",
     "output_type": "stream",
     "text": [
      "The lowest playcount is \"Si No Estás\" with playcount: 24413575.\n"
     ]
    }
   ],
   "source": [
    "# lowest playcount\n",
    "lowestplaycount = data['contents']['items'][0]['playCount']\n",
    "\n",
    "for track in data['contents']['items']:\n",
    "    if track['playCount'] < lowestplaycount:\n",
    "        lowestplaycount = track['playCount']\n",
    "        song_name = track['name']\n",
    "\n",
    "print(f'The lowest playcount is \"{song_name}\" with playcount: {lowestplaycount}.')"
   ]
  }
 ],
 "metadata": {
  "kernelspec": {
   "display_name": "venv",
   "language": "python",
   "name": "python3"
  },
  "language_info": {
   "codemirror_mode": {
    "name": "ipython",
    "version": 3
   },
   "file_extension": ".py",
   "mimetype": "text/x-python",
   "name": "python",
   "nbconvert_exporter": "python",
   "pygments_lexer": "ipython3",
   "version": "3.12.4"
  }
 },
 "nbformat": 4,
 "nbformat_minor": 2
}
