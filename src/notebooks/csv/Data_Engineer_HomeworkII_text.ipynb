{
 "cells": [
  {
   "cell_type": "code",
   "execution_count": null,
   "metadata": {
    "vscode": {
     "languageId": "plaintext"
    }
   },
   "outputs": [],
   "source": [
    "  Data Engineer\n",
    "\n",
    "    Module II:\n",
    "\n",
    "    Homework – Week XI.\n",
    "\n",
    "    Create a notebook with the SQL queries. One cell, one query, and please copy the question\n",
    "    into the cell.\n",
    "\n",
    "    Example:\n",
    "\n",
    "    # Task 1: Do this.\n",
    "    SELECT * FROM table\n",
    "    Next cell\n",
    "\n",
    "    # Task 2: Do this.\n",
    "    SELECT * FROM table WHERE xy = \"x\"\n",
    "    Etc.\n",
    "\n",
    "    Tasks:\n",
    "\n",
    "    1. Which 10 companies make the most money?\n",
    "    Use two columns: Company name and the sum of the fare. Order by descending order.\n",
    "    Make sure that the sum of the fares (total_fare) is not in scientific notation.\n",
    "    2. Show the 10 pickup community areas with the most rides.\n",
    "    Use two columns: community area name and count of rides per area, in descending order for\n",
    "    the rides.\n",
    "    3. Get the count of taxi rides per day of week. In other words, we'd like to see which day has\n",
    "    the most rides.\n",
    "    Use the names of the days instead of numbers (Monday = 1, Tuesday = 2, etc.).\n",
    "    HINT: Check CASE WHEN statements for replacing names of days. For ordering the results by\n",
    "    the day you can use MIN(day_of_the_week)."
   ]
  },
  {
   "cell_type": "markdown",
   "metadata": {},
   "source": [
    "SELECT c.company, ROUND(SUM(tt.trip_total), 1) total_fare\n",
    "FROM \"AwsDataCatalog\".\"chicago_taxi_db\".\"taxi_trips\" tt\n",
    "INNER JOIN \"AwsDataCatalog\".\"chicago_taxi_db\".\"company\" c\n",
    "    ON tt.company_id = c.company_id\n",
    "GROUP BY c.company\n",
    "ORDER BY total_fare DESC\n",
    "LIMIT 10;\n",
    "\n",
    "#\tcompany\ttotal_fare\n",
    "1\tTaxi Affiliation Services\t71361.8\n",
    "2\tFlash Cab\t56117.9\n",
    "3\tSun Taxi\t42050.4\n",
    "4\tTaxicab Insurance Agency Llc\t33132.6\n",
    "5\tCity Service\t30659.1\n",
    "6\t5 Star Taxi\t23523.7\n",
    "7\tChicago Independents\t20302.0\n",
    "8\tMedallion Leasin\t11931.2\n",
    "9\tGlobe Taxi\t11546.5\n",
    "10\tBlue Ribbon Taxi Association\t10313.5"
   ]
  },
  {
   "cell_type": "markdown",
   "metadata": {},
   "source": [
    "SELECT ca.community_name pickup_community, COUNT(tt.trip_id) count_of_rides\n",
    "FROM \"AwsDataCatalog\".\"chicago_taxi_db\".\"taxi_trips\" tt\n",
    "INNER JOIN \"AwsDataCatalog\".\"chicago_taxi_db\".\"community_areas\" ca\n",
    "    ON tt.pickup_community_area_id = ca.area_code\n",
    "GROUP BY ca.community_name\n",
    "ORDER BY count_of_rides DESC\n",
    "LIMIT 10;\n",
    "\n",
    "#\tpickup_community\tcount_of_rides\n",
    "1\tLincoln Square\t18609\n",
    "2\tRogers Park\t16286\n",
    "3\tNorth Center\t6912\n",
    "4\tNear North Side\t4175\n",
    "5\tWest Ridge\t3126\n",
    "6\tLake View\t2743\n",
    "7\tO'Hare\t2538\n",
    "8\tLincoln Park\t2101\n",
    "9\tUptown\t1868\n",
    "10\tJefferson Park\t1730\n",
    "\n"
   ]
  },
  {
   "cell_type": "markdown",
   "metadata": {},
   "source": [
    "WITH rpd as -- rides per day\n",
    "    (SELECT DATE(trip_start_timestamp) date1, COUNT(trip_id) count_of_rides\n",
    "        FROM \"AwsDataCatalog\".\"chicago_taxi_db\".\"taxi_trips\"\n",
    "        GROUP BY DATE(trip_start_timestamp)),\n",
    "    drw as -- average daily rides per weekdays\n",
    "    (SELECT d.day_of_week, ROUND(AVG(rpd.count_of_rides), 1) daily_rides\n",
    "        FROM rpd\n",
    "        INNER JOIN \"AwsDataCatalog\".\"chicago_taxi_db\".date d ON rpd.date1 = d.date\n",
    "        GROUP BY d.day_of_week\n",
    "        ORDER BY d.day_of_week)\n",
    "SELECT \n",
    "    CASE \n",
    "        WHEN drw.day_of_week = 1 THEN 'Monday'\n",
    "        WHEN drw.day_of_week = 2 THEN 'Tuesday'\n",
    "        WHEN drw.day_of_week = 3 THEN 'Wednesday'\n",
    "        WHEN drw.day_of_week = 4 THEN 'Thursday'\n",
    "        WHEN drw.day_of_week = 5 THEN 'Friday'\n",
    "        WHEN drw.day_of_week = 6 THEN 'Saturday'\n",
    "        WHEN drw.day_of_week = 7 THEN 'Sunday'\n",
    "        ELSE 'Invalid workday'\n",
    "    END,\n",
    "    drw.daily_rides\n",
    "    FROM drw;\n",
    "\n",
    "\n",
    "\n",
    "    #\t_col0\tdaily_rides\n",
    "1\tMonday\t14637.0\n",
    "2\tTuesday\t17448.0\n",
    "3\tWednesday\t18510.5\n",
    "4\tThursday\t19304.5\n",
    "5\tFriday\t18227.0\n",
    "6\tSaturday\t13172.0\n",
    "7\tSunday\t10631.0\n"
   ]
  }
 ],
 "metadata": {
  "language_info": {
   "name": "python"
  }
 },
 "nbformat": 4,
 "nbformat_minor": 2
}
